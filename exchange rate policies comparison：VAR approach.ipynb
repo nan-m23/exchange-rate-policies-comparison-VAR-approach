{
 "cells": [
  {
   "cell_type": "markdown",
   "metadata": {},
   "source": [
    "在人民币走向国际化的战略中，实现浮动汇率制是关键一步也是必要的一步。"
   ]
  },
  {
   "cell_type": "markdown",
   "metadata": {},
   "source": [
    "过分依赖于外汇干预实施外汇管控不仅会对外汇储备造成巨大压力、非冲销式干预造成货币超发，也不利于汇率发挥自动调节国际收支的作用。"
   ]
  },
  {
   "cell_type": "markdown",
   "metadata": {},
   "source": [
    "参考《人民币从市场化走向国际化》，本文将通过实证，分析不同汇率制下的经济体面对外部冲击时，国内主要经济指标的不同反应。"
   ]
  },
  {
   "cell_type": "markdown",
   "metadata": {},
   "source": [
    "# 实证"
   ]
  },
  {
   "cell_type": "markdown",
   "metadata": {},
   "source": [
    "    1、数据选取，来源Bloomberg"
   ]
  },
  {
   "cell_type": "markdown",
   "metadata": {},
   "source": [
    "选取26个国家：玻利维亚、印度、马来西亚、墨西哥、新西兰、挪威、秘鲁、波兰、罗马尼亚、俄罗斯、韩国、泰国、土耳其、澳大利亚、巴西、加拿大、智利、哥伦比亚、捷克、匈牙利、印度尼西亚、以色列、菲律宾、南非、斯里兰卡、瑞典"
   ]
  },
  {
   "cell_type": "markdown",
   "metadata": {},
   "source": [
    "经济指标：VIX指数、兑美元名义汇率、外汇储备变化净值、CPI、PPI、股票指数、对美联储短期利率差"
   ]
  },
  {
   "cell_type": "markdown",
   "metadata": {},
   "source": [
    "    2、实证设计"
   ]
  },
  {
   "cell_type": "markdown",
   "metadata": {},
   "source": [
    "2.1 VAR建模"
   ]
  },
  {
   "cell_type": "markdown",
   "metadata": {},
   "source": [
    "【1】参考：https://blog.csdn.net/mooncrystal123/article/details/86736397?ops_request_misc=%257B%2522request%255Fid%2522%253A%2522162367984316780274168623%2522%252C%2522scm%2522%253A%252220140713.130102334.pc%255Fall.%2522%257D&request_id=162367984316780274168623&biz_id=0&utm_medium=distribute.pc_search_result.none-task-blog-2~all~first_rank_v2~times_rank-1-86736397.first_rank_v2_pc_rank_v29&utm_term=python+向量自回归&spm=1018.2226.3001.4187"
   ]
  },
  {
   "cell_type": "code",
   "execution_count": 1,
   "metadata": {},
   "outputs": [],
   "source": [
    "import statsmodels as sm\n",
    "import pandas as pd\n",
    "import numpy as np\n",
    "import matplotlib.pyplot as plt"
   ]
  },
  {
   "cell_type": "markdown",
   "metadata": {},
   "source": [
    "1）首先画出两个时间序列的序列相关图："
   ]
  },
  {
   "cell_type": "code",
   "execution_count": null,
   "metadata": {},
   "outputs": [],
   "source": [
    "def serial_correlation_plot(ts1 , ts2):\n",
    "    ts1 = (ts1 - np.mean(ts1))/np.std(ts1)\n",
    "    ts2 = (ts2 - np.mean(ts2))/np.std(ts2)\n",
    "    plt.plot(ts1 , col = 'r' , label = 'VIX')\n",
    "    plt.plot(ts2 , col = 'b' , label = str(ts2) + 'foreign reserve')\n",
    "    plt.title('Correlation: ' + str(ts2) , fontsize = 20)\n",
    "    plt.show()"
   ]
  },
  {
   "cell_type": "markdown",
   "metadata": {},
   "source": [
    "var模型要求两个时间序列同阶协整，因此进行平稳性检验"
   ]
  },
  {
   "cell_type": "markdown",
   "metadata": {},
   "source": [
    "2）ADF单位根检验："
   ]
  },
  {
   "cell_type": "code",
   "execution_count": null,
   "metadata": {},
   "outputs": [],
   "source": [
    "def adf_test(data):\n",
    "    \n",
    "    adfresult = sm.tsa.stattools.adfuller(data)\n",
    "    \n",
    "    print('p value : ' + float(adfresult[1])) \n",
    "    print('lag : ' + adfresult[2])\n",
    "    print(adfresult)"
   ]
  },
  {
   "cell_type": "markdown",
   "metadata": {},
   "source": [
    "ps：由于ADF检验是对于原序列的差分序列进行单整检验，改变了时间序列的经济含义，所以我们仍希望使用原序列进行建模。"
   ]
  },
  {
   "cell_type": "markdown",
   "metadata": {},
   "source": [
    "对于同阶单整的两个序列可以检验是否协整。"
   ]
  },
  {
   "cell_type": "markdown",
   "metadata": {},
   "source": [
    "3）协整检验："
   ]
  },
  {
   "cell_type": "markdown",
   "metadata": {},
   "source": [
    "ps：就像你遛狗一样，狗虽然到处乱跑，但由于被你用绳子牵着，长期来看与你的方向是一致的（协整关系）"
   ]
  },
  {
   "cell_type": "code",
   "execution_count": null,
   "metadata": {},
   "outputs": [],
   "source": [
    "def cointegration_test(ts1 , ts2):\n",
    "    result = sm.tsa.stattools.coint(ts1 , ts2)\n",
    "    print(result)"
   ]
  },
  {
   "cell_type": "markdown",
   "metadata": {},
   "source": [
    "4）var建模："
   ]
  },
  {
   "cell_type": "code",
   "execution_count": null,
   "metadata": {},
   "outputs": [],
   "source": [
    "def var_model(data):\n",
    "    \n",
    "    #data需是一个np.arrray\n",
    "    \n",
    "    orgMod = sm.tsa.VARMAX(data , order=(varLagNum,0) , trend='nc' , exog=None)\n",
    "\n",
    "    fitMod = orgMod.fit(maxiter=1000,disp=False)\n",
    "\n",
    "    print(fitMod.summary())\n",
    "\n",
    "    resid = fitMod.resid #残差序列\n",
    "    result = {'fitMod':fitMod,'resid':resid}"
   ]
  },
  {
   "cell_type": "markdown",
   "metadata": {},
   "source": [
    "选取向量自回归模型(VAR)"
   ]
  },
  {
   "cell_type": "markdown",
   "metadata": {},
   "source": [
    "首先对VIX与外汇干预指标进行建模，以区分外汇干预国与汇率浮动国"
   ]
  },
  {
   "cell_type": "markdown",
   "metadata": {},
   "source": [
    "# 参考文献"
   ]
  },
  {
   "cell_type": "markdown",
   "metadata": {},
   "source": [
    "【1】《人民币从国际化走向市场化》"
   ]
  },
  {
   "cell_type": "markdown",
   "metadata": {},
   "source": [
    "【2】Blanchard O, Adler G, de Carvalho Filho I. Can foreign exchange intervention stem exchange rate pressures from global capital flow shocks?[R]. National Bureau of Economic Research, 2015."
   ]
  },
  {
   "cell_type": "markdown",
   "metadata": {},
   "source": [
    "【3】Gourinchas P O, Rey H. From world banker to world venture capitalist: US external adjustment and the exorbitant privilege[M]//G7 current account imbalances: sustainability and adjustment. University of Chicago Press, 2007: 11-66."
   ]
  },
  {
   "cell_type": "markdown",
   "metadata": {},
   "source": [
    "【4】Adler G, Lisack N, Mano R. Unveiling the effects of foreign exchange intervention: a panel approach[M]. International Monetary Fund, 2015."
   ]
  },
  {
   "cell_type": "code",
   "execution_count": null,
   "metadata": {},
   "outputs": [],
   "source": []
  }
 ],
 "metadata": {
  "kernelspec": {
   "display_name": "Python 3",
   "language": "python",
   "name": "python3"
  },
  "language_info": {
   "codemirror_mode": {
    "name": "ipython",
    "version": 3
   },
   "file_extension": ".py",
   "mimetype": "text/x-python",
   "name": "python",
   "nbconvert_exporter": "python",
   "pygments_lexer": "ipython3",
   "version": "3.8.5"
  }
 },
 "nbformat": 4,
 "nbformat_minor": 4
}
