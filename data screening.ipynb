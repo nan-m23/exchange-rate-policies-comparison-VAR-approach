{
 "cells": [
  {
   "cell_type": "code",
   "execution_count": 1,
   "metadata": {},
   "outputs": [],
   "source": [
    "import pandas as pd\n",
    "import matplotlib.pyplot as plt\n",
    "import numpy as np\n",
    "import time"
   ]
  },
  {
   "cell_type": "code",
   "execution_count": 2,
   "metadata": {},
   "outputs": [],
   "source": [
    "VIX = pd.read_excel('/Users/nanyueming/Documents/学习/python/汇率分析/data/VIX.GI.xlsx')"
   ]
  },
  {
   "cell_type": "code",
   "execution_count": 3,
   "metadata": {},
   "outputs": [],
   "source": [
    "VIX.dropna(inplace = True)"
   ]
  },
  {
   "cell_type": "code",
   "execution_count": 4,
   "metadata": {},
   "outputs": [],
   "source": [
    "VIX.rename(columns = {'日期':'date','收盘价(元)':'price'} , inplace = True)"
   ]
  },
  {
   "cell_type": "code",
   "execution_count": 5,
   "metadata": {},
   "outputs": [],
   "source": [
    "VIX.date = pd.to_datetime(VIX.date)"
   ]
  },
  {
   "cell_type": "code",
   "execution_count": 6,
   "metadata": {},
   "outputs": [],
   "source": [
    "inflations = pd.read_excel('/Users/nanyueming/Documents/学习/python/汇率分析/data/currency analyst/新建 Microsoft Excel 工作表.xlsx' , \n",
    "                           sheet_name = '通货膨胀')"
   ]
  },
  {
   "cell_type": "code",
   "execution_count": 7,
   "metadata": {},
   "outputs": [],
   "source": [
    "exchanges = pd.read_excel('/Users/nanyueming/Documents/学习/python/汇率分析/data/currency analyst/新建 Microsoft Excel 工作表.xlsx' , \n",
    "                           sheet_name = '汇率')"
   ]
  },
  {
   "cell_type": "code",
   "execution_count": 8,
   "metadata": {},
   "outputs": [],
   "source": [
    "freserve = pd.read_excel('/Users/nanyueming/Documents/学习/python/汇率分析/data/currency analyst/新建 Microsoft Excel 工作表.xlsx' , \n",
    "                         sheet_name = '外汇储备')"
   ]
  },
  {
   "cell_type": "code",
   "execution_count": 9,
   "metadata": {},
   "outputs": [],
   "source": [
    "stock_index = pd.read_excel('/Users/nanyueming/Documents/学习/python/汇率分析/data/currency analyst/新建 Microsoft Excel 工作表.xlsx' , \n",
    "                           sheet_name = '股指')"
   ]
  },
  {
   "cell_type": "code",
   "execution_count": 10,
   "metadata": {},
   "outputs": [],
   "source": [
    "def inflation_index(df1 , df2):\n",
    "    df3 = pd.merge(df1 , df2 , on = 'A' , how = 'inner')\n",
    "    df3['inflation'] = (df3['CPI']+df3['PPI'])/2\n",
    "    return df3   "
   ]
  },
  {
   "cell_type": "markdown",
   "metadata": {},
   "source": [
    "    外汇储蓄"
   ]
  },
  {
   "cell_type": "markdown",
   "metadata": {},
   "source": [
    "挪威"
   ]
  },
  {
   "cell_type": "code",
   "execution_count": 11,
   "metadata": {},
   "outputs": [],
   "source": [
    "freserve_nor = freserve[['NOREOFFI Index','挪威']].dropna().rename(columns = {'NOREOFFI Index':'date','挪威':'reserve'})"
   ]
  },
  {
   "cell_type": "markdown",
   "metadata": {},
   "source": [
    "俄罗斯"
   ]
  },
  {
   "cell_type": "code",
   "execution_count": 12,
   "metadata": {},
   "outputs": [],
   "source": [
    "freserve_rus = freserve[['Unnamed: 4','俄罗斯']].dropna().rename(columns = {'Unnamed: 4':'date','俄罗斯':'reserve'})"
   ]
  },
  {
   "cell_type": "markdown",
   "metadata": {},
   "source": [
    "韩国"
   ]
  },
  {
   "cell_type": "code",
   "execution_count": 13,
   "metadata": {},
   "outputs": [],
   "source": [
    "freserve_kor = freserve[['KOFETOT Index','韩国']].dropna().rename(columns = {'KOFETOT Index':'date','韩国':'reserve'})"
   ]
  },
  {
   "cell_type": "markdown",
   "metadata": {},
   "source": [
    "印度"
   ]
  },
  {
   "cell_type": "code",
   "execution_count": 14,
   "metadata": {},
   "outputs": [],
   "source": [
    "freserve_ind = freserve[['Unnamed: 8','印度']].dropna().rename(columns = {'Unnamed: 8':'date','印度':'reserve'})"
   ]
  },
  {
   "cell_type": "markdown",
   "metadata": {},
   "source": [
    "菲律宾"
   ]
  },
  {
   "cell_type": "code",
   "execution_count": 15,
   "metadata": {},
   "outputs": [],
   "source": [
    "freserve_phi = freserve[['PHIRTTL Index','菲律宾']].dropna().rename(columns = {'PHIRTTL Index':'date','菲律宾':'reserve'})"
   ]
  },
  {
   "cell_type": "markdown",
   "metadata": {},
   "source": [
    "加拿大"
   ]
  },
  {
   "cell_type": "code",
   "execution_count": 16,
   "metadata": {},
   "outputs": [],
   "source": [
    "freserve_can = freserve[['CAINTOTL Index','加拿大']].dropna().rename(columns = {'CAINTOTL Index':'date','加拿大':'reserve'})"
   ]
  },
  {
   "cell_type": "markdown",
   "metadata": {},
   "source": [
    "瑞典"
   ]
  },
  {
   "cell_type": "code",
   "execution_count": 17,
   "metadata": {},
   "outputs": [],
   "source": [
    "freserve_swi = freserve[['SWIRRES Index','瑞典']].dropna().rename(columns = {'SWIRRES Index':'date','瑞典':'reserve'})"
   ]
  },
  {
   "cell_type": "markdown",
   "metadata": {},
   "source": [
    "玻利维亚"
   ]
  },
  {
   "cell_type": "code",
   "execution_count": 18,
   "metadata": {},
   "outputs": [],
   "source": [
    "freserve_bol = freserve[['BOIRCASH Index','玻利维亚']].dropna().rename(columns = {'BOIRCASH Index':'date','玻利维亚':'reserve'})"
   ]
  },
  {
   "cell_type": "markdown",
   "metadata": {},
   "source": [
    "马来西亚"
   ]
  },
  {
   "cell_type": "code",
   "execution_count": 19,
   "metadata": {},
   "outputs": [],
   "source": [
    "freserve_mal = freserve[['MAOR Index','马来西亚']].dropna().rename(columns = {'MAOR Index':'date','马来西亚':'reserve'})"
   ]
  },
  {
   "cell_type": "markdown",
   "metadata": {},
   "source": [
    "墨西哥"
   ]
  },
  {
   "cell_type": "code",
   "execution_count": 20,
   "metadata": {},
   "outputs": [],
   "source": [
    "freserve_max = freserve[['MXIRINUS Index','墨西哥']].dropna().rename(columns = {'MXIRINUS Index':'date','墨西哥':'reserve'})"
   ]
  },
  {
   "cell_type": "markdown",
   "metadata": {},
   "source": [
    "新西兰"
   ]
  },
  {
   "cell_type": "code",
   "execution_count": 21,
   "metadata": {},
   "outputs": [],
   "source": [
    "freserve_nzl = freserve[['NZFETOT Index','新西兰']].dropna().rename(columns = {'NZFETOT Index':'date','新西兰':'reserve'})"
   ]
  },
  {
   "cell_type": "markdown",
   "metadata": {},
   "source": [
    "秘鲁"
   ]
  },
  {
   "cell_type": "code",
   "execution_count": 22,
   "metadata": {},
   "outputs": [],
   "source": [
    "freserve_pr = freserve[['PRRSCB Index','秘鲁']].dropna().rename(columns = {'PRRSCB Index':'date','秘鲁':'reserve'})"
   ]
  },
  {
   "cell_type": "markdown",
   "metadata": {},
   "source": [
    "波兰"
   ]
  },
  {
   "cell_type": "code",
   "execution_count": 23,
   "metadata": {},
   "outputs": [],
   "source": [
    "freserve_pol = freserve[['PORATOTL Index','波兰']].dropna().rename(columns = {'PORATOTL Index':'date','波兰':'reserve'})"
   ]
  },
  {
   "cell_type": "markdown",
   "metadata": {},
   "source": [
    "罗马尼亚"
   ]
  },
  {
   "cell_type": "code",
   "execution_count": 24,
   "metadata": {},
   "outputs": [],
   "source": [
    "freserve_rom = freserve[['ROCUFCGR Index','罗马尼亚']].dropna().rename(columns = {'ROCUFCGR Index':'date','罗马尼亚':'reserve'})"
   ]
  },
  {
   "cell_type": "markdown",
   "metadata": {},
   "source": [
    "巴西"
   ]
  },
  {
   "cell_type": "code",
   "execution_count": null,
   "metadata": {},
   "outputs": [],
   "source": []
  },
  {
   "cell_type": "markdown",
   "metadata": {},
   "source": [
    "泰国"
   ]
  },
  {
   "cell_type": "code",
   "execution_count": 25,
   "metadata": {},
   "outputs": [],
   "source": [
    "freserve_thai = freserve[['THFRUS$ Index','泰国']].dropna().rename(columns = {'THFRUS$ Index':'date','泰国':'reserve'})"
   ]
  },
  {
   "cell_type": "markdown",
   "metadata": {},
   "source": [
    "土耳其"
   ]
  },
  {
   "cell_type": "code",
   "execution_count": 26,
   "metadata": {},
   "outputs": [],
   "source": [
    "freserve_tur = freserve[['TURWL Index','土耳其']].dropna().rename(columns = {'TURWL Index':'date','土耳其':'reserve'})"
   ]
  },
  {
   "cell_type": "markdown",
   "metadata": {},
   "source": [
    "澳大利亚"
   ]
  },
  {
   "cell_type": "code",
   "execution_count": 27,
   "metadata": {},
   "outputs": [],
   "source": [
    "freserve_aus = freserve[['AUFRA Index','澳大利亚']].dropna().rename(columns = {'AUFRA Index':'date','澳大利亚':'reserve'})"
   ]
  },
  {
   "cell_type": "markdown",
   "metadata": {},
   "source": [
    "智利"
   ]
  },
  {
   "cell_type": "code",
   "execution_count": 28,
   "metadata": {},
   "outputs": [],
   "source": [
    "freserve_chi = freserve[['CHMRRSRV Index','智利']].dropna().rename(columns = {'CHMRRSRV Index':'date','智利':'reserve'})"
   ]
  },
  {
   "cell_type": "markdown",
   "metadata": {},
   "source": [
    "哥伦比亚"
   ]
  },
  {
   "cell_type": "code",
   "execution_count": 29,
   "metadata": {},
   "outputs": [],
   "source": [
    "freserve_col = freserve[['COIRGROS Index','哥伦比亚']].dropna().rename(columns = {'COIRGROS Index':'date','哥伦比亚':'reserve'})"
   ]
  },
  {
   "cell_type": "markdown",
   "metadata": {},
   "source": [
    "捷克"
   ]
  },
  {
   "cell_type": "code",
   "execution_count": 30,
   "metadata": {},
   "outputs": [],
   "source": [
    "freserve_cze = freserve[['CZIRL Index','捷克']].dropna().rename(columns = {'CZIRL Index':'date','捷克':'reserve'})"
   ]
  },
  {
   "cell_type": "markdown",
   "metadata": {},
   "source": [
    "匈牙利"
   ]
  },
  {
   "cell_type": "code",
   "execution_count": 31,
   "metadata": {},
   "outputs": [],
   "source": [
    "freserve_hun = freserve[['HUCRTOT Index','匈牙利']].dropna().rename(columns = {'HUCRTOT Index':'date','匈牙利':'reserve'})"
   ]
  },
  {
   "cell_type": "markdown",
   "metadata": {},
   "source": [
    "印尼"
   ]
  },
  {
   "cell_type": "code",
   "execution_count": 32,
   "metadata": {},
   "outputs": [],
   "source": [
    "freserve_idn = freserve[['IDGFA Index','印度尼西亚']].dropna().rename(columns = {'IDGFA Index':'date','印度尼西亚':'reserve'})"
   ]
  },
  {
   "cell_type": "markdown",
   "metadata": {},
   "source": [
    "以色列"
   ]
  },
  {
   "cell_type": "code",
   "execution_count": 33,
   "metadata": {},
   "outputs": [],
   "source": [
    "freserve_wis = freserve[['WIRAISRA Index','以色列']].dropna().rename(columns = {'WIRAISRA Index':'date','以色列':'reserve'})"
   ]
  },
  {
   "cell_type": "markdown",
   "metadata": {},
   "source": [
    "南非"
   ]
  },
  {
   "cell_type": "code",
   "execution_count": 34,
   "metadata": {},
   "outputs": [],
   "source": [
    "freserve_sou = freserve[['SANOFP$ Index','南非']].dropna().rename(columns = {'SANOFP$ Index':'date','南非':'reserve'})"
   ]
  },
  {
   "cell_type": "markdown",
   "metadata": {},
   "source": [
    "斯里兰卡"
   ]
  },
  {
   "cell_type": "code",
   "execution_count": 35,
   "metadata": {},
   "outputs": [],
   "source": [
    "freserve_slr = freserve[['SLREUSD Index','斯里兰卡']].dropna().rename(columns = {'SLREUSD Index':'date','斯里兰卡':'reserve'})"
   ]
  },
  {
   "cell_type": "markdown",
   "metadata": {},
   "source": [
    "外汇储备国："
   ]
  },
  {
   "cell_type": "code",
   "execution_count": 36,
   "metadata": {},
   "outputs": [],
   "source": [
    "freserve_list = ['freserve_nor' , 'freserve_rus' , 'freserve_kor' , 'freserve_ind' , 'freserve_phi' , \n",
    "                 'freserve_can' , 'freserve_swi' , 'freserve_bol' , 'freserve_mal' , 'freserve_max' , \n",
    "                 'freserve_nzl' , 'freserve_pr' , 'freserve_pol' , 'freserve_rom' , 'freserve_thai' , \n",
    "                 'freserve_tur' , 'freserve_aus' , 'freserve_chi' , 'freserve_col' , 'freserve_cze' ,\n",
    "                 'freserve_hun' , 'freserve_idn' , 'freserve_wis' , 'freserve_sou' , 'freserve_slr']"
   ]
  },
  {
   "cell_type": "code",
   "execution_count": 37,
   "metadata": {},
   "outputs": [],
   "source": [
    "freserve_slr['net_change'] = freserve_slr.reserve.diff(periods = 1)"
   ]
  },
  {
   "cell_type": "code",
   "execution_count": 38,
   "metadata": {},
   "outputs": [],
   "source": [
    "freserve_slr.date = pd.to_datetime(freserve_slr.date)"
   ]
  },
  {
   "cell_type": "code",
   "execution_count": 39,
   "metadata": {},
   "outputs": [],
   "source": [
    "df = pd.merge(freserve_slr , VIX , on = 'date' , how = 'inner')"
   ]
  },
  {
   "cell_type": "code",
   "execution_count": 46,
   "metadata": {},
   "outputs": [],
   "source": [
    "def reserve_diff(data):\n",
    "    \n",
    "    #计算外汇储备变动\n",
    "    \n",
    "    data['net_change'] = data.reserve.diff(period = 1)\n",
    "    \n",
    "    data.date = pd.to_datetime(data.date)\n",
    "    df = pd.merge(data , VIX , on = 'date' , how = 'inner')  \n",
    "    df = df.loc[: , ['date' , 'net_change' , 'price']]  #price是vix指数\n",
    "    df.setindex(df.date)\n",
    "    return df"
   ]
  },
  {
   "cell_type": "code",
   "execution_count": 47,
   "metadata": {},
   "outputs": [],
   "source": [
    "df = df.loc[: , ['date' , 'net_change' , 'price']]"
   ]
  },
  {
   "cell_type": "code",
   "execution_count": 54,
   "metadata": {},
   "outputs": [],
   "source": [
    "ts1 = (df['price'] - np.mean(df['price']))/np.std(df['price'])"
   ]
  },
  {
   "cell_type": "code",
   "execution_count": 56,
   "metadata": {},
   "outputs": [],
   "source": [
    "ts2 = (df['net_change'] - np.mean(df['net_change']))/np.std(df['net_change'])"
   ]
  },
  {
   "cell_type": "code",
   "execution_count": 57,
   "metadata": {
    "scrolled": true
   },
   "outputs": [
    {
     "data": {
      "text/plain": [
       "[<matplotlib.lines.Line2D at 0x7fbd1cce0f70>]"
      ]
     },
     "execution_count": 57,
     "metadata": {},
     "output_type": "execute_result"
    },
    {
     "data": {
      "image/png": "[encoded data removed]",
      "text/plain": [
       "<Figure size 432x288 with 1 Axes>"
      ]
     },
     "metadata": {
      "needs_background": "light"
     },
     "output_type": "display_data"
    }
   ],
   "source": [
    "plt.plot(ts1 , 'r' , label = 'VIX')\n",
    "plt.plot(ts2 , 'b' , label = 'foreign reserve')"
   ]
  },
  {
   "cell_type": "code",
   "execution_count": 65,
   "metadata": {},
   "outputs": [],
   "source": [
    "import statsmodels.api as sm\n",
    "import statsmodels.stats.diagnostic"
   ]
  },
  {
   "cell_type": "code",
   "execution_count": 70,
   "metadata": {},
   "outputs": [
    {
     "data": {
      "text/plain": [
       "(-4.918993649293315,\n",
       " 3.2024011768404966e-05,\n",
       " 0,\n",
       " 153,\n",
       " {'1%': -3.473829775724492,\n",
       "  '5%': -2.880622899711496,\n",
       "  '10%': -2.5769448985432954},\n",
       " 883.5159621775936)"
      ]
     },
     "execution_count": 70,
     "metadata": {},
     "output_type": "execute_result"
    }
   ],
   "source": [
    "sm.tsa.stattools.adfuller(df['price'])"
   ]
  },
  {
   "cell_type": "code",
   "execution_count": 72,
   "metadata": {},
   "outputs": [
    {
     "data": {
      "text/plain": [
       "(-12.454881984976325,\n",
       " 3.508883856405729e-23,\n",
       " 0,\n",
       " 152,\n",
       " {'1%': -3.474120870218417,\n",
       "  '5%': -2.880749791423677,\n",
       "  '10%': -2.5770126333102494},\n",
       " 2191.6947325719034)"
      ]
     },
     "execution_count": 72,
     "metadata": {},
     "output_type": "execute_result"
    }
   ],
   "source": [
    "sm.tsa.stattools.adfuller(df['net_change'].dropna())"
   ]
  },
  {
   "cell_type": "code",
   "execution_count": 75,
   "metadata": {},
   "outputs": [],
   "source": [
    "df.dropna(inplace = True)"
   ]
  },
  {
   "cell_type": "code",
   "execution_count": 76,
   "metadata": {},
   "outputs": [
    {
     "data": {
      "text/plain": [
       "(-4.915784071605722,\n",
       " 0.00023446198106481908,\n",
       " array([-3.96994311, -3.37662334, -3.07247036]))"
      ]
     },
     "execution_count": 76,
     "metadata": {},
     "output_type": "execute_result"
    }
   ],
   "source": [
    "sm.tsa.stattools.coint(df['price'] , df['net_change'])"
   ]
  },
  {
   "cell_type": "code",
   "execution_count": 82,
   "metadata": {},
   "outputs": [],
   "source": [
    "df.set_index(df.date,drop = True,inplace = True)"
   ]
  },
  {
   "cell_type": "code",
   "execution_count": 92,
   "metadata": {},
   "outputs": [
    {
     "name": "stdout",
     "output_type": "stream",
     "text": [
      "                           Statespace Model Results                           \n",
      "==============================================================================\n",
      "Dep. Variable:           ['y1', 'y2']   No. Observations:                  153\n",
      "Model:                         VAR(1)   Log Likelihood               -1687.452\n",
      "                          + intercept   AIC                           3392.903\n",
      "Date:                Tue, 15 Jun 2021   BIC                           3420.177\n",
      "Time:                        19:12:17   HQIC                          3403.983\n",
      "Sample:                             0                                         \n",
      "                                - 153                                         \n",
      "Covariance Type:                  opg                                         \n",
      "===================================================================================\n",
      "Ljung-Box (L1) (Q):             0.10, 0.01   Jarque-Bera (JB):       806.51, 740.73\n",
      "Prob(Q):                        0.76, 0.90   Prob(JB):                   0.00, 0.00\n",
      "Heteroskedasticity (H):        2.01, 22.56   Skew:                       2.58, 1.96\n",
      "Prob(H) (two-sided):            0.01, 0.00   Kurtosis:                 13.00, 13.04\n",
      "                           Results for equation y1                            \n",
      "==============================================================================\n",
      "                 coef    std err          z      P>|z|      [0.025      0.975]\n",
      "------------------------------------------------------------------------------\n",
      "intercept      5.5076      1.506      3.657      0.000       2.556       8.459\n",
      "L1.y1          0.7202      0.058     12.518      0.000       0.607       0.833\n",
      "L1.y2          0.0006      0.001      1.003      0.316      -0.001       0.002\n",
      "                           Results for equation y2                            \n",
      "==============================================================================\n",
      "                 coef    std err          z      P>|z|      [0.025      0.975]\n",
      "------------------------------------------------------------------------------\n",
      "intercept    -57.3181    138.172     -0.415      0.678    -328.130     213.494\n",
      "L1.y1          5.3751      5.890      0.913      0.361      -6.170      16.920\n",
      "L1.y2         -0.0232      0.086     -0.269      0.788      -0.192       0.145\n",
      "                             Error covariance matrix                              \n",
      "==================================================================================\n",
      "                     coef    std err          z      P>|z|      [0.025      0.975]\n",
      "----------------------------------------------------------------------------------\n",
      "sqrt.var.y1        5.6724      0.261     21.749      0.000       5.161       6.184\n",
      "sqrt.cov.y1.y2   -37.8838    102.704     -0.369      0.712    -239.179     163.412\n",
      "sqrt.var.y2      640.9219     26.243     24.423      0.000     589.487     692.357\n",
      "==================================================================================\n",
      "\n",
      "Warnings:\n",
      "[1] Covariance matrix calculated using the outer product of gradients (complex-step).\n"
     ]
    }
   ],
   "source": [
    "orgMod = sm.tsa.VARMAX(np.array(df[['price','net_change']]),order=(1,0),exog=None)\n",
    "\n",
    "fitMod = orgMod.fit(maxiter=1000,disp=False)\n",
    "print(fitMod.summary())"
   ]
  },
  {
   "cell_type": "code",
   "execution_count": null,
   "metadata": {},
   "outputs": [],
   "source": []
  }
 ],
 "metadata": {
  "kernelspec": {
   "display_name": "Python 3",
   "language": "python",
   "name": "python3"
  },
  "language_info": {
   "codemirror_mode": {
    "name": "ipython",
    "version": 3
   },
   "file_extension": ".py",
   "mimetype": "text/x-python",
   "name": "python",
   "nbconvert_exporter": "python",
   "pygments_lexer": "ipython3",
   "version": "3.8.5"
  }
 },
 "nbformat": 4,
 "nbformat_minor": 4
}
